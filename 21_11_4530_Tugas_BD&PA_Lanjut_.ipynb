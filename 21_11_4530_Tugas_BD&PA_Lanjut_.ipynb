{
  "nbformat": 4,
  "nbformat_minor": 0,
  "metadata": {
    "colab": {
      "provenance": []
    },
    "kernelspec": {
      "name": "python3",
      "display_name": "Python 3"
    },
    "language_info": {
      "name": "python"
    }
  },
  "cells": [
    {
      "cell_type": "code",
      "execution_count": 1,
      "metadata": {
        "colab": {
          "base_uri": "https://localhost:8080/",
          "height": 0
        },
        "id": "NCxYBgdqSljj",
        "outputId": "912e3247-69c6-4c36-eea7-6cf64190acb6"
      },
      "outputs": [
        {
          "output_type": "stream",
          "name": "stdout",
          "text": [
            "Collecting pyspark\n",
            "  Downloading pyspark-3.5.0.tar.gz (316.9 MB)\n",
            "\u001b[2K     \u001b[90m━━━━━━━━━━━━━━━━━━━━━━━━━━━━━━━━━━━━━━━━\u001b[0m \u001b[32m316.9/316.9 MB\u001b[0m \u001b[31m4.2 MB/s\u001b[0m eta \u001b[36m0:00:00\u001b[0m\n",
            "\u001b[?25h  Preparing metadata (setup.py) ... \u001b[?25l\u001b[?25hdone\n",
            "Requirement already satisfied: py4j==0.10.9.7 in /usr/local/lib/python3.10/dist-packages (from pyspark) (0.10.9.7)\n",
            "Building wheels for collected packages: pyspark\n",
            "  Building wheel for pyspark (setup.py) ... \u001b[?25l\u001b[?25hdone\n",
            "  Created wheel for pyspark: filename=pyspark-3.5.0-py2.py3-none-any.whl size=317425344 sha256=07e10a2c182d6f6ffa9be5d569ba368089fecf4a06ab7c765aeee574d13fb873\n",
            "  Stored in directory: /root/.cache/pip/wheels/41/4e/10/c2cf2467f71c678cfc8a6b9ac9241e5e44a01940da8fbb17fc\n",
            "Successfully built pyspark\n",
            "Installing collected packages: pyspark\n",
            "Successfully installed pyspark-3.5.0\n"
          ]
        }
      ],
      "source": [
        "# Menginstall pyspark\n",
        "!pip install pyspark"
      ]
    },
    {
      "cell_type": "code",
      "source": [
        "# Mengimpor modul SparkSession dari PySpark.\n",
        "from pyspark.sql import SparkSession\n",
        "\n",
        "# Inisialisasi SparkSession dalam variabel spark\n",
        "spark = SparkSession.builder.getOrCreate()\n",
        "\n",
        "\n",
        "# SparkContext (sc) digunakan untuk mengelola komputasi Spark\n",
        "sc = spark.sparkContext"
      ],
      "metadata": {
        "id": "_NK2oUlZU-zG"
      },
      "execution_count": 2,
      "outputs": []
    },
    {
      "cell_type": "code",
      "source": [
        "# Membaca dataset people.csv\n",
        "people_df = spark.read.csv('people.csv', header=True, inferSchema=True)\n",
        "\n",
        "# Menampilkan tipe data people_df\n",
        "print(\"The type of people_df is\", type(people_df))"
      ],
      "metadata": {
        "colab": {
          "base_uri": "https://localhost:8080/",
          "height": 0
        },
        "id": "PoYCqXuhWOtn",
        "outputId": "d614d7f7-7560-442e-9e39-9d36662fcf7e"
      },
      "execution_count": 3,
      "outputs": [
        {
          "output_type": "stream",
          "name": "stdout",
          "text": [
            "The type of people_df is <class 'pyspark.sql.dataframe.DataFrame'>\n"
          ]
        }
      ]
    },
    {
      "cell_type": "code",
      "source": [
        "# Menampilkan 10 baris pertama pada dataset\n",
        "people_df.show(10)\n",
        "\n",
        "print(\"There are {} rows in the people_df DataFrame.\".format(people_df.count()))\n",
        "\n",
        "print(\"There are {} columns in the people_df DataFrame and their names are {}\".format(len(people_df.columns), people_df.columns))"
      ],
      "metadata": {
        "colab": {
          "base_uri": "https://localhost:8080/",
          "height": 0
        },
        "id": "YzfEnCviXASv",
        "outputId": "12366d4d-3e42-4d6d-847f-8acb316a7612"
      },
      "execution_count": 4,
      "outputs": [
        {
          "output_type": "stream",
          "name": "stdout",
          "text": [
            "+---+---------+----------------+------+-------------------+\n",
            "|_c0|person_id|            name|   sex|      date of birth|\n",
            "+---+---------+----------------+------+-------------------+\n",
            "|  0|      100|  Penelope Lewis|female|1990-08-31 00:00:00|\n",
            "|  1|      101|   David Anthony|  male|1971-10-14 00:00:00|\n",
            "|  2|      102|       Ida Shipp|female|1962-05-24 00:00:00|\n",
            "|  3|      103|    Joanna Moore|female|2017-03-10 00:00:00|\n",
            "|  4|      104|  Lisandra Ortiz|female|2020-08-05 00:00:00|\n",
            "|  5|      105|   David Simmons|  male|1999-12-30 00:00:00|\n",
            "|  6|      106|   Edward Hudson|  male|1983-05-09 00:00:00|\n",
            "|  7|      107|    Albert Jones|  male|1990-09-13 00:00:00|\n",
            "|  8|      108|Leonard Cavender|  male|1958-08-08 00:00:00|\n",
            "|  9|      109|  Everett Vadala|  male|2005-05-24 00:00:00|\n",
            "+---+---------+----------------+------+-------------------+\n",
            "only showing top 10 rows\n",
            "\n",
            "There are 100000 rows in the people_df DataFrame.\n",
            "There are 5 columns in the people_df DataFrame and their names are ['_c0', 'person_id', 'name', 'sex', 'date of birth']\n"
          ]
        }
      ]
    },
    {
      "cell_type": "code",
      "source": [
        "people_df_sub = people_df.select('name', 'sex', 'date of birth')\n",
        "\n",
        "people_df_sub.show(10)"
      ],
      "metadata": {
        "colab": {
          "base_uri": "https://localhost:8080/",
          "height": 0
        },
        "id": "MzipuGzjYhzf",
        "outputId": "9b322938-aa48-4dca-8dee-14387be3b75b"
      },
      "execution_count": 5,
      "outputs": [
        {
          "output_type": "stream",
          "name": "stdout",
          "text": [
            "+----------------+------+-------------------+\n",
            "|            name|   sex|      date of birth|\n",
            "+----------------+------+-------------------+\n",
            "|  Penelope Lewis|female|1990-08-31 00:00:00|\n",
            "|   David Anthony|  male|1971-10-14 00:00:00|\n",
            "|       Ida Shipp|female|1962-05-24 00:00:00|\n",
            "|    Joanna Moore|female|2017-03-10 00:00:00|\n",
            "|  Lisandra Ortiz|female|2020-08-05 00:00:00|\n",
            "|   David Simmons|  male|1999-12-30 00:00:00|\n",
            "|   Edward Hudson|  male|1983-05-09 00:00:00|\n",
            "|    Albert Jones|  male|1990-09-13 00:00:00|\n",
            "|Leonard Cavender|  male|1958-08-08 00:00:00|\n",
            "|  Everett Vadala|  male|2005-05-24 00:00:00|\n",
            "+----------------+------+-------------------+\n",
            "only showing top 10 rows\n",
            "\n"
          ]
        }
      ]
    },
    {
      "cell_type": "code",
      "source": [
        "# QUIZ\n",
        "# Berapakah jumlah data sebelum dan sesudah di remove duplicate?\n",
        "# Bersihkan dataset jenis kelamin null dan usia <0 dan >100\n",
        "# Hitung usia dari masing-masing orang berdasarkan tanggal hari ini\n",
        "# Kelompokan usia semua orang menjadi 0-17, 18-25, 25-35, 35-45, 45-50, 50-55, 55-100\n",
        "# Hitung jumlah masing-masing jenis kelamin untuk masing-masing kelompok usia\n",
        "# Tuliskan source code dan hasilnya di classroom ya\n",
        "\n",
        "people_df_sub_nodup = people_df_sub.dropDuplicates()\n",
        "print(\"There were {} rows before removing duplicates, and {} rows after removing duplicates\"\n",
        "    .format(people_df_sub.count(), people_df_sub_nodup.count()))"
      ],
      "metadata": {
        "colab": {
          "base_uri": "https://localhost:8080/",
          "height": 0
        },
        "id": "qmoAlxWqcX0-",
        "outputId": "b7047ae2-7d56-486c-dc84-092a1b9b7fd9"
      },
      "execution_count": 6,
      "outputs": [
        {
          "output_type": "stream",
          "name": "stdout",
          "text": [
            "There were 100000 rows before removing duplicates, and 99998 rows after removing duplicates\n"
          ]
        }
      ]
    },
    {
      "cell_type": "code",
      "source": [
        "print(people_df.count())\n",
        "print(people_df_sub_nodup.count())"
      ],
      "metadata": {
        "colab": {
          "base_uri": "https://localhost:8080/",
          "height": 0
        },
        "id": "3PjWaqcFeA3n",
        "outputId": "5227df64-57d4-4bd9-ab83-9890e4061440"
      },
      "execution_count": 7,
      "outputs": [
        {
          "output_type": "stream",
          "name": "stdout",
          "text": [
            "100000\n",
            "99998\n"
          ]
        }
      ]
    },
    {
      "cell_type": "code",
      "source": [
        "# Jumlah data sebelum dan sesudah di remove duplicate?\n",
        "print(\"Jumlah data sebelum menghapus duplikat:\", people_df_sub.count())\n",
        "people_df_sub_nodup = people_df_sub.dropDuplicates()\n",
        "print(\"Jumlah data setelah menghapus duplikat:\", people_df_sub_nodup.count())\n"
      ],
      "metadata": {
        "colab": {
          "base_uri": "https://localhost:8080/",
          "height": 0
        },
        "id": "hwpbaHNRKWcF",
        "outputId": "bd1abfd4-d233-4f5f-fc87-31bf759df459"
      },
      "execution_count": 8,
      "outputs": [
        {
          "output_type": "stream",
          "name": "stdout",
          "text": [
            "Jumlah data sebelum menghapus duplikat: 100000\n",
            "Jumlah data setelah menghapus duplikat: 99998\n"
          ]
        }
      ]
    },
    {
      "cell_type": "code",
      "source": [
        "from pyspark.sql.functions import current_date, col,  count\n",
        "from pyspark.sql.functions import datediff, when\n",
        "\n",
        "# Membersihkan NULL pada kolom 'sex'\n",
        "people_df_cleaned = people_df_sub_nodup.filter(people_df_sub_nodup['sex'].isNotNull())\n",
        "\n",
        "# Menghitung usia berdasarkan tanggal hari ini\n",
        "today_date = current_date()\n",
        "people_df_cleaned = people_df_cleaned.withColumn('age', datediff(today_date, col('date of birth')) / 365)\n",
        "\n",
        "# Membersihkan usia < 0 dan > 100\n",
        "people_df_cleaned = people_df_cleaned.filter((people_df_cleaned['age'] > 0) & (people_df_cleaned['age'] <= 100))\n",
        "people_df_cleaned.show()"
      ],
      "metadata": {
        "id": "PF01JKU9KiGu",
        "colab": {
          "base_uri": "https://localhost:8080/",
          "height": 0
        },
        "outputId": "a81e0359-d3b0-47ea-ab0b-aa05b889e88d"
      },
      "execution_count": 9,
      "outputs": [
        {
          "output_type": "stream",
          "name": "stdout",
          "text": [
            "+---------------+------+-------------------+------------------+\n",
            "|           name|   sex|      date of birth|               age|\n",
            "+---------------+------+-------------------+------------------+\n",
            "| Meredith Valez|female|1986-12-13 00:00:00|36.863013698630134|\n",
            "| Jeffery Cowley|  male|1973-06-22 00:00:00|50.347945205479455|\n",
            "|Otis Richardson|  male|1964-08-15 00:00:00|59.205479452054796|\n",
            "| Shirley Parado|female|1993-06-27 00:00:00| 30.32054794520548|\n",
            "|Kimberly Madore|female|1982-04-27 00:00:00| 41.49589041095891|\n",
            "| Barbara Warren|female|2015-12-08 00:00:00| 7.857534246575343|\n",
            "|  Joseph Tucker|  male|1959-07-19 00:00:00| 64.28493150684932|\n",
            "| Barbara Kearns|female|1996-02-26 00:00:00| 27.65205479452055|\n",
            "| Jessica Santos|female|1990-03-06 00:00:00|33.632876712328766|\n",
            "|    John Kerney|  male|1987-03-01 00:00:00| 36.64931506849315|\n",
            "|   Stacy Mardis|female|1996-05-07 00:00:00|27.457534246575342|\n",
            "|    George Taul|  male|1991-08-24 00:00:00| 32.16438356164384|\n",
            "|  Mary Williams|female|1970-10-13 00:00:00| 53.04109589041096|\n",
            "|  James Mcgowen|  male|2015-03-06 00:00:00| 8.616438356164384|\n",
            "|   Nellie Allen|female|1988-05-23 00:00:00| 35.41917808219178|\n",
            "|  Laura Nickels|female|1949-06-12 00:00:00|  74.3917808219178|\n",
            "|     John Smith|  male|1994-11-22 00:00:00|28.915068493150685|\n",
            "|  Demetria Bush|female|1955-10-09 00:00:00| 68.06301369863014|\n",
            "|     Rene Wheat|female|2010-06-21 00:00:00|13.326027397260274|\n",
            "|Nicholas Langer|  male|2013-06-27 00:00:00|10.306849315068494|\n",
            "+---------------+------+-------------------+------------------+\n",
            "only showing top 20 rows\n",
            "\n"
          ]
        }
      ]
    },
    {
      "cell_type": "code",
      "source": [
        "# Kelompokan usia semua orang menjadi 0-17, 18-25, 25-35, 35-45, 45-50, 50-55, 55-100\n",
        "from pyspark.sql.functions import when\n",
        "\n",
        "people_df_cleaned = people_df_cleaned.withColumn('age_group',\n",
        "    when((col('age') >= 0) & (col('age') <= 17), '0-17')\n",
        "    .when((col('age') >= 17) & (col('age') <= 25), '17-25')\n",
        "    .when((col('age') >= 25) & (col('age') <= 35), '25-35')\n",
        "    .when((col('age') >= 35) & (col('age') <= 45), '35-45')\n",
        "    .when((col('age') >= 45) & (col('age') <= 50), '45-50')\n",
        "    .when((col('age') >= 50) & (col('age') <= 55), '50-55')\n",
        "    .when((col('age') >= 55) & (col('age') <= 100), '55-100')\n",
        "    .otherwise('Unknown')\n",
        ")\n",
        "people_df_cleaned.show()"
      ],
      "metadata": {
        "id": "cr_GgwxuLMxf",
        "colab": {
          "base_uri": "https://localhost:8080/",
          "height": 0
        },
        "outputId": "5c478938-3afd-4ece-910d-6b68473036cd"
      },
      "execution_count": 10,
      "outputs": [
        {
          "output_type": "stream",
          "name": "stdout",
          "text": [
            "+---------------+------+-------------------+------------------+---------+\n",
            "|           name|   sex|      date of birth|               age|age_group|\n",
            "+---------------+------+-------------------+------------------+---------+\n",
            "| Meredith Valez|female|1986-12-13 00:00:00|36.863013698630134|    35-45|\n",
            "| Jeffery Cowley|  male|1973-06-22 00:00:00|50.347945205479455|    50-55|\n",
            "|Otis Richardson|  male|1964-08-15 00:00:00|59.205479452054796|   55-100|\n",
            "| Shirley Parado|female|1993-06-27 00:00:00| 30.32054794520548|    25-35|\n",
            "|Kimberly Madore|female|1982-04-27 00:00:00| 41.49589041095891|    35-45|\n",
            "| Barbara Warren|female|2015-12-08 00:00:00| 7.857534246575343|     0-17|\n",
            "|  Joseph Tucker|  male|1959-07-19 00:00:00| 64.28493150684932|   55-100|\n",
            "| Barbara Kearns|female|1996-02-26 00:00:00| 27.65205479452055|    25-35|\n",
            "| Jessica Santos|female|1990-03-06 00:00:00|33.632876712328766|    25-35|\n",
            "|    John Kerney|  male|1987-03-01 00:00:00| 36.64931506849315|    35-45|\n",
            "|   Stacy Mardis|female|1996-05-07 00:00:00|27.457534246575342|    25-35|\n",
            "|    George Taul|  male|1991-08-24 00:00:00| 32.16438356164384|    25-35|\n",
            "|  Mary Williams|female|1970-10-13 00:00:00| 53.04109589041096|    50-55|\n",
            "|  James Mcgowen|  male|2015-03-06 00:00:00| 8.616438356164384|     0-17|\n",
            "|   Nellie Allen|female|1988-05-23 00:00:00| 35.41917808219178|    35-45|\n",
            "|  Laura Nickels|female|1949-06-12 00:00:00|  74.3917808219178|   55-100|\n",
            "|     John Smith|  male|1994-11-22 00:00:00|28.915068493150685|    25-35|\n",
            "|  Demetria Bush|female|1955-10-09 00:00:00| 68.06301369863014|   55-100|\n",
            "|     Rene Wheat|female|2010-06-21 00:00:00|13.326027397260274|     0-17|\n",
            "|Nicholas Langer|  male|2013-06-27 00:00:00|10.306849315068494|     0-17|\n",
            "+---------------+------+-------------------+------------------+---------+\n",
            "only showing top 20 rows\n",
            "\n"
          ]
        }
      ]
    },
    {
      "cell_type": "code",
      "source": [
        "# Menampilkan jumlah masing-masing jenis kelamin untuk masing-masing kelompok usia\n",
        "\n",
        "from pyspark.sql.functions import col, datediff, current_date, when, count\n",
        "\n",
        "sorted_gender_age_group_counts = people_df_cleaned.groupBy(\"sex\", \"age_group\").agg(count(\"*\").alias(\"count\"))\n",
        "sorted_gender_age_group_counts = sorted_gender_age_group_counts.orderBy(\"sex\", \"age_group\")\n",
        "print(\"Jumlah data: \", people_df_cleaned.count())\n",
        "sorted_gender_age_group_counts.show()\n"
      ],
      "metadata": {
        "colab": {
          "base_uri": "https://localhost:8080/",
          "height": 0
        },
        "id": "s0QD6Dq2LbE7",
        "outputId": "f00803e3-ae8d-4d1b-de87-c3758cbe8b97"
      },
      "execution_count": 11,
      "outputs": [
        {
          "output_type": "stream",
          "name": "stdout",
          "text": [
            "Jumlah data:  93980\n",
            "+------+---------+-----+\n",
            "|   sex|age_group|count|\n",
            "+------+---------+-----+\n",
            "|female|     0-17| 4677|\n",
            "|female|    17-25| 4776|\n",
            "|female|    25-35| 8137|\n",
            "|female|    35-45| 9539|\n",
            "|female|    45-50| 4547|\n",
            "|female|    50-55| 3980|\n",
            "|female|   55-100|11317|\n",
            "|  male|     0-17| 4758|\n",
            "|  male|    17-25| 4571|\n",
            "|  male|    25-35| 8341|\n",
            "|  male|    35-45| 9605|\n",
            "|  male|    45-50| 4558|\n",
            "|  male|    50-55| 3960|\n",
            "|  male|   55-100|11214|\n",
            "+------+---------+-----+\n",
            "\n"
          ]
        }
      ]
    }
  ]
}